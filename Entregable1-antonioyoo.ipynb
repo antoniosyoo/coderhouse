{
 "cells": [
  {
   "cell_type": "code",
   "execution_count": 1,
   "id": "de5e2784-b22f-4c9a-8103-c6eade4af8e9",
   "metadata": {
    "tags": []
   },
   "outputs": [
    {
     "name": "stdout",
     "output_type": "stream",
     "text": [
      "Requirement already satisfied: yfinance in /opt/conda/lib/python3.10/site-packages (0.2.18)\n",
      "Requirement already satisfied: pandas>=1.3.0 in /opt/conda/lib/python3.10/site-packages (from yfinance) (2.0.0)\n",
      "Requirement already satisfied: numpy>=1.16.5 in /opt/conda/lib/python3.10/site-packages (from yfinance) (1.23.5)\n",
      "Requirement already satisfied: requests>=2.26 in /opt/conda/lib/python3.10/site-packages (from yfinance) (2.28.2)\n",
      "Requirement already satisfied: multitasking>=0.0.7 in /opt/conda/lib/python3.10/site-packages (from yfinance) (0.0.11)\n",
      "Requirement already satisfied: lxml>=4.9.1 in /opt/conda/lib/python3.10/site-packages (from yfinance) (4.9.2)\n",
      "Requirement already satisfied: appdirs>=1.4.4 in /opt/conda/lib/python3.10/site-packages (from yfinance) (1.4.4)\n",
      "Requirement already satisfied: pytz>=2022.5 in /opt/conda/lib/python3.10/site-packages (from yfinance) (2023.3)\n",
      "Requirement already satisfied: frozendict>=2.3.4 in /opt/conda/lib/python3.10/site-packages (from yfinance) (2.3.8)\n",
      "Requirement already satisfied: cryptography>=3.3.2 in /opt/conda/lib/python3.10/site-packages (from yfinance) (40.0.2)\n",
      "Requirement already satisfied: beautifulsoup4>=4.11.1 in /opt/conda/lib/python3.10/site-packages (from yfinance) (4.12.2)\n",
      "Requirement already satisfied: html5lib>=1.1 in /opt/conda/lib/python3.10/site-packages (from yfinance) (1.1)\n",
      "Requirement already satisfied: soupsieve>1.2 in /opt/conda/lib/python3.10/site-packages (from beautifulsoup4>=4.11.1->yfinance) (2.3.2.post1)\n",
      "Requirement already satisfied: cffi>=1.12 in /opt/conda/lib/python3.10/site-packages (from cryptography>=3.3.2->yfinance) (1.15.1)\n",
      "Requirement already satisfied: six>=1.9 in /opt/conda/lib/python3.10/site-packages (from html5lib>=1.1->yfinance) (1.16.0)\n",
      "Requirement already satisfied: webencodings in /opt/conda/lib/python3.10/site-packages (from html5lib>=1.1->yfinance) (0.5.1)\n",
      "Requirement already satisfied: python-dateutil>=2.8.2 in /opt/conda/lib/python3.10/site-packages (from pandas>=1.3.0->yfinance) (2.8.2)\n",
      "Requirement already satisfied: tzdata>=2022.1 in /opt/conda/lib/python3.10/site-packages (from pandas>=1.3.0->yfinance) (2023.3)\n",
      "Requirement already satisfied: charset-normalizer<4,>=2 in /opt/conda/lib/python3.10/site-packages (from requests>=2.26->yfinance) (3.1.0)\n",
      "Requirement already satisfied: idna<4,>=2.5 in /opt/conda/lib/python3.10/site-packages (from requests>=2.26->yfinance) (3.4)\n",
      "Requirement already satisfied: urllib3<1.27,>=1.21.1 in /opt/conda/lib/python3.10/site-packages (from requests>=2.26->yfinance) (1.26.15)\n",
      "Requirement already satisfied: certifi>=2017.4.17 in /opt/conda/lib/python3.10/site-packages (from requests>=2.26->yfinance) (2022.12.7)\n",
      "Requirement already satisfied: pycparser in /opt/conda/lib/python3.10/site-packages (from cffi>=1.12->cryptography>=3.3.2->yfinance) (2.21)\n"
     ]
    }
   ],
   "source": [
    "!pip install yfinance\n"
   ]
  },
  {
   "cell_type": "code",
   "execution_count": 2,
   "id": "8226f3ae-9675-458a-8423-761d790e1362",
   "metadata": {},
   "outputs": [],
   "source": [
    "import yfinance as yf\n",
    "import matplotlib.pyplot as plt"
   ]
  },
  {
   "cell_type": "code",
   "execution_count": 3,
   "id": "96990f7e-f7b1-4301-a8f3-7c81b088be90",
   "metadata": {
    "tags": []
   },
   "outputs": [],
   "source": [
    "msft = yf.Ticker('MSFT') \n",
    "info_1y = msft.history(period = \"1y\")\n",
    "info_1y['Date'] = info_1y.index\n",
    "info_1y = info_1y.reset_index (drop = True)"
   ]
  },
  {
   "cell_type": "code",
   "execution_count": 4,
   "id": "2878b77d-667f-4998-b2ea-9ce1b5c3c810",
   "metadata": {
    "tags": []
   },
   "outputs": [
    {
     "data": {
      "text/html": [
       "<div>\n",
       "<style scoped>\n",
       "    .dataframe tbody tr th:only-of-type {\n",
       "        vertical-align: middle;\n",
       "    }\n",
       "\n",
       "    .dataframe tbody tr th {\n",
       "        vertical-align: top;\n",
       "    }\n",
       "\n",
       "    .dataframe thead th {\n",
       "        text-align: right;\n",
       "    }\n",
       "</style>\n",
       "<table border=\"1\" class=\"dataframe\">\n",
       "  <thead>\n",
       "    <tr style=\"text-align: right;\">\n",
       "      <th></th>\n",
       "      <th>Open</th>\n",
       "      <th>High</th>\n",
       "      <th>Low</th>\n",
       "      <th>Close</th>\n",
       "      <th>Volume</th>\n",
       "      <th>Dividends</th>\n",
       "      <th>Stock Splits</th>\n",
       "      <th>Date</th>\n",
       "    </tr>\n",
       "  </thead>\n",
       "  <tbody>\n",
       "    <tr>\n",
       "      <th>0</th>\n",
       "      <td>265.909676</td>\n",
       "      <td>270.723133</td>\n",
       "      <td>264.998470</td>\n",
       "      <td>270.624084</td>\n",
       "      <td>26910800</td>\n",
       "      <td>0.0</td>\n",
       "      <td>0.0</td>\n",
       "      <td>2022-05-27 00:00:00-04:00</td>\n",
       "    </tr>\n",
       "    <tr>\n",
       "      <th>1</th>\n",
       "      <td>269.920897</td>\n",
       "      <td>272.139442</td>\n",
       "      <td>266.355356</td>\n",
       "      <td>269.267212</td>\n",
       "      <td>37827700</td>\n",
       "      <td>0.0</td>\n",
       "      <td>0.0</td>\n",
       "      <td>2022-05-31 00:00:00-04:00</td>\n",
       "    </tr>\n",
       "    <tr>\n",
       "      <th>2</th>\n",
       "      <td>272.565335</td>\n",
       "      <td>275.031486</td>\n",
       "      <td>267.454731</td>\n",
       "      <td>269.811951</td>\n",
       "      <td>25292200</td>\n",
       "      <td>0.0</td>\n",
       "      <td>0.0</td>\n",
       "      <td>2022-06-01 00:00:00-04:00</td>\n",
       "    </tr>\n",
       "    <tr>\n",
       "      <th>3</th>\n",
       "      <td>261.918270</td>\n",
       "      <td>272.020601</td>\n",
       "      <td>259.095548</td>\n",
       "      <td>271.951263</td>\n",
       "      <td>44008200</td>\n",
       "      <td>0.0</td>\n",
       "      <td>0.0</td>\n",
       "      <td>2022-06-02 00:00:00-04:00</td>\n",
       "    </tr>\n",
       "    <tr>\n",
       "      <th>4</th>\n",
       "      <td>267.722138</td>\n",
       "      <td>270.832091</td>\n",
       "      <td>265.840334</td>\n",
       "      <td>267.434906</td>\n",
       "      <td>28059000</td>\n",
       "      <td>0.0</td>\n",
       "      <td>0.0</td>\n",
       "      <td>2022-06-03 00:00:00-04:00</td>\n",
       "    </tr>\n",
       "    <tr>\n",
       "      <th>5</th>\n",
       "      <td>269.455372</td>\n",
       "      <td>271.555070</td>\n",
       "      <td>264.661712</td>\n",
       "      <td>266.177063</td>\n",
       "      <td>22400300</td>\n",
       "      <td>0.0</td>\n",
       "      <td>0.0</td>\n",
       "      <td>2022-06-06 00:00:00-04:00</td>\n",
       "    </tr>\n",
       "    <tr>\n",
       "      <th>6</th>\n",
       "      <td>264.087291</td>\n",
       "      <td>270.515148</td>\n",
       "      <td>263.393980</td>\n",
       "      <td>269.891174</td>\n",
       "      <td>22860700</td>\n",
       "      <td>0.0</td>\n",
       "      <td>0.0</td>\n",
       "      <td>2022-06-07 00:00:00-04:00</td>\n",
       "    </tr>\n",
       "    <tr>\n",
       "      <th>7</th>\n",
       "      <td>269.108740</td>\n",
       "      <td>270.386398</td>\n",
       "      <td>267.028838</td>\n",
       "      <td>267.821198</td>\n",
       "      <td>17372300</td>\n",
       "      <td>0.0</td>\n",
       "      <td>0.0</td>\n",
       "      <td>2022-06-08 00:00:00-04:00</td>\n",
       "    </tr>\n",
       "    <tr>\n",
       "      <th>8</th>\n",
       "      <td>265.216370</td>\n",
       "      <td>270.099165</td>\n",
       "      <td>262.096533</td>\n",
       "      <td>262.255005</td>\n",
       "      <td>26439700</td>\n",
       "      <td>0.0</td>\n",
       "      <td>0.0</td>\n",
       "      <td>2022-06-09 00:00:00-04:00</td>\n",
       "    </tr>\n",
       "    <tr>\n",
       "      <th>9</th>\n",
       "      <td>258.085280</td>\n",
       "      <td>258.085280</td>\n",
       "      <td>250.112360</td>\n",
       "      <td>250.567963</td>\n",
       "      <td>31422800</td>\n",
       "      <td>0.0</td>\n",
       "      <td>0.0</td>\n",
       "      <td>2022-06-10 00:00:00-04:00</td>\n",
       "    </tr>\n",
       "  </tbody>\n",
       "</table>\n",
       "</div>"
      ],
      "text/plain": [
       "         Open        High         Low       Close    Volume  Dividends   \n",
       "0  265.909676  270.723133  264.998470  270.624084  26910800        0.0  \\\n",
       "1  269.920897  272.139442  266.355356  269.267212  37827700        0.0   \n",
       "2  272.565335  275.031486  267.454731  269.811951  25292200        0.0   \n",
       "3  261.918270  272.020601  259.095548  271.951263  44008200        0.0   \n",
       "4  267.722138  270.832091  265.840334  267.434906  28059000        0.0   \n",
       "5  269.455372  271.555070  264.661712  266.177063  22400300        0.0   \n",
       "6  264.087291  270.515148  263.393980  269.891174  22860700        0.0   \n",
       "7  269.108740  270.386398  267.028838  267.821198  17372300        0.0   \n",
       "8  265.216370  270.099165  262.096533  262.255005  26439700        0.0   \n",
       "9  258.085280  258.085280  250.112360  250.567963  31422800        0.0   \n",
       "\n",
       "   Stock Splits                      Date  \n",
       "0           0.0 2022-05-27 00:00:00-04:00  \n",
       "1           0.0 2022-05-31 00:00:00-04:00  \n",
       "2           0.0 2022-06-01 00:00:00-04:00  \n",
       "3           0.0 2022-06-02 00:00:00-04:00  \n",
       "4           0.0 2022-06-03 00:00:00-04:00  \n",
       "5           0.0 2022-06-06 00:00:00-04:00  \n",
       "6           0.0 2022-06-07 00:00:00-04:00  \n",
       "7           0.0 2022-06-08 00:00:00-04:00  \n",
       "8           0.0 2022-06-09 00:00:00-04:00  \n",
       "9           0.0 2022-06-10 00:00:00-04:00  "
      ]
     },
     "execution_count": 4,
     "metadata": {},
     "output_type": "execute_result"
    }
   ],
   "source": [
    "info_1y.head(10)"
   ]
  },
  {
   "cell_type": "code",
   "execution_count": 5,
   "id": "7a20c5e7-c2fe-4fc5-a93a-57ca57f12566",
   "metadata": {
    "tags": []
   },
   "outputs": [
    {
     "data": {
      "text/plain": [
       "(251, 8)"
      ]
     },
     "execution_count": 5,
     "metadata": {},
     "output_type": "execute_result"
    }
   ],
   "source": [
    "info_1y.shape"
   ]
  },
  {
   "cell_type": "code",
   "execution_count": 6,
   "id": "54056ac3-277e-4f79-8889-dad43b1baef0",
   "metadata": {
    "tags": []
   },
   "outputs": [
    {
     "data": {
      "image/png": "[encoded data removed]",
      "text/plain": [
       "<Figure size 640x480 with 1 Axes>"
      ]
     },
     "metadata": {},
     "output_type": "display_data"
    }
   ],
   "source": [
    "x = info_1y['Date']\n",
    "y = info_1y['High']\n",
    "plt.plot(x,y)\n",
    "plt.xlabel('dates')\n",
    "plt.ylabel('High Prices')\n",
    "plt.show()"
   ]
  },
  {
   "cell_type": "code",
   "execution_count": 7,
   "id": "e20b1b90-b26a-4670-ad0e-c50b9f859fd6",
   "metadata": {
    "tags": []
   },
   "outputs": [
    {
     "name": "stdout",
     "output_type": "stream",
     "text": [
      "Requirement already satisfied: sqlalchemy-redshift in /opt/conda/lib/python3.10/site-packages (0.8.14)\n",
      "Requirement already satisfied: SQLAlchemy<2.0.0,>=0.9.2 in /opt/conda/lib/python3.10/site-packages (from sqlalchemy-redshift) (1.4.48)\n",
      "Requirement already satisfied: packaging in /opt/conda/lib/python3.10/site-packages (from sqlalchemy-redshift) (23.1)\n",
      "Requirement already satisfied: greenlet!=0.4.17 in /opt/conda/lib/python3.10/site-packages (from SQLAlchemy<2.0.0,>=0.9.2->sqlalchemy-redshift) (2.0.2)\n",
      "Note: you may need to restart the kernel to use updated packages.\n"
     ]
    }
   ],
   "source": [
    "pip install sqlalchemy-redshift"
   ]
  },
  {
   "cell_type": "code",
   "execution_count": 8,
   "id": "de7eab60-2355-4a0c-93c0-3ffd0c0ccfee",
   "metadata": {
    "tags": []
   },
   "outputs": [
    {
     "name": "stdout",
     "output_type": "stream",
     "text": [
      "Requirement already satisfied: redshift_connector in /opt/conda/lib/python3.10/site-packages (2.0.910)\n",
      "Requirement already satisfied: scramp<1.5.0,>=1.2.0 in /opt/conda/lib/python3.10/site-packages (from redshift_connector) (1.4.4)\n",
      "Requirement already satisfied: pytz>=2020.1 in /opt/conda/lib/python3.10/site-packages (from redshift_connector) (2023.3)\n",
      "Requirement already satisfied: beautifulsoup4<5.0.0,>=4.7.0 in /opt/conda/lib/python3.10/site-packages (from redshift_connector) (4.12.2)\n",
      "Requirement already satisfied: boto3<2.0.0,>=1.9.201 in /opt/conda/lib/python3.10/site-packages (from redshift_connector) (1.26.142)\n",
      "Requirement already satisfied: requests<3.0.0,>=2.23.0 in /opt/conda/lib/python3.10/site-packages (from redshift_connector) (2.28.2)\n",
      "Requirement already satisfied: lxml>=4.6.5 in /opt/conda/lib/python3.10/site-packages (from redshift_connector) (4.9.2)\n",
      "Requirement already satisfied: botocore<2.0.0,>=1.12.201 in /opt/conda/lib/python3.10/site-packages (from redshift_connector) (1.29.142)\n",
      "Requirement already satisfied: packaging in /opt/conda/lib/python3.10/site-packages (from redshift_connector) (23.1)\n",
      "Requirement already satisfied: setuptools in /opt/conda/lib/python3.10/site-packages (from redshift_connector) (67.7.1)\n",
      "Requirement already satisfied: soupsieve>1.2 in /opt/conda/lib/python3.10/site-packages (from beautifulsoup4<5.0.0,>=4.7.0->redshift_connector) (2.3.2.post1)\n",
      "Requirement already satisfied: jmespath<2.0.0,>=0.7.1 in /opt/conda/lib/python3.10/site-packages (from boto3<2.0.0,>=1.9.201->redshift_connector) (1.0.1)\n",
      "Requirement already satisfied: s3transfer<0.7.0,>=0.6.0 in /opt/conda/lib/python3.10/site-packages (from boto3<2.0.0,>=1.9.201->redshift_connector) (0.6.1)\n",
      "Requirement already satisfied: python-dateutil<3.0.0,>=2.1 in /opt/conda/lib/python3.10/site-packages (from botocore<2.0.0,>=1.12.201->redshift_connector) (2.8.2)\n",
      "Requirement already satisfied: urllib3<1.27,>=1.25.4 in /opt/conda/lib/python3.10/site-packages (from botocore<2.0.0,>=1.12.201->redshift_connector) (1.26.15)\n",
      "Requirement already satisfied: charset-normalizer<4,>=2 in /opt/conda/lib/python3.10/site-packages (from requests<3.0.0,>=2.23.0->redshift_connector) (3.1.0)\n",
      "Requirement already satisfied: idna<4,>=2.5 in /opt/conda/lib/python3.10/site-packages (from requests<3.0.0,>=2.23.0->redshift_connector) (3.4)\n",
      "Requirement already satisfied: certifi>=2017.4.17 in /opt/conda/lib/python3.10/site-packages (from requests<3.0.0,>=2.23.0->redshift_connector) (2022.12.7)\n",
      "Requirement already satisfied: asn1crypto>=1.5.1 in /opt/conda/lib/python3.10/site-packages (from scramp<1.5.0,>=1.2.0->redshift_connector) (1.5.1)\n",
      "Requirement already satisfied: six>=1.5 in /opt/conda/lib/python3.10/site-packages (from python-dateutil<3.0.0,>=2.1->botocore<2.0.0,>=1.12.201->redshift_connector) (1.16.0)\n",
      "Note: you may need to restart the kernel to use updated packages.\n"
     ]
    }
   ],
   "source": [
    "pip install redshift_connector\n"
   ]
  },
  {
   "cell_type": "code",
   "execution_count": 10,
   "id": "0db9cfc7-d90a-4ee3-a875-d21bbf06c5cc",
   "metadata": {
    "tags": []
   },
   "outputs": [],
   "source": [
    "import redshift_connector"
   ]
  },
  {
   "cell_type": "code",
   "execution_count": 11,
   "id": "941d034e-84e4-432e-ae55-407a780b2be4",
   "metadata": {
    "tags": []
   },
   "outputs": [],
   "source": [
    "#create connection to redshift\n",
    "conn = redshift_connector.connect(\n",
    "    host='coder_house_port',\n",
    "    database='coder_house_database',\n",
    "    port=int('coder_house_port'),\n",
    "    user='coder_house_user',\n",
    "    password='coder_house_password'\n",
    ")"
   ]
  },
  {
   "cell_type": "code",
   "execution_count": 12,
   "id": "126df885-2e79-429d-a2a6-8d76e3064007",
   "metadata": {
    "tags": []
   },
   "outputs": [],
   "source": [
    "cursor = conn.cursor()"
   ]
  },
  {
   "cell_type": "code",
   "execution_count": 13,
   "id": "e2f5657a-c74b-46fa-ac0d-d7a5403bfac7",
   "metadata": {
    "tags": []
   },
   "outputs": [],
   "source": [
    "#def to execute query into redshift\n",
    "def redshift_execute(conn,query):\n",
    "    try:\n",
    "        cur = conn.cursor()\n",
    "        cur.execute(query)\n",
    "        conn.commit()\n",
    "        cur.close()\n",
    "    except Exception as err:, \n",
    "        print (err)"
   ]
  },
  {
   "cell_type": "code",
   "execution_count": 26,
   "id": "3b9b909c-61a0-4b52-b2e5-54a61b17863b",
   "metadata": {
    "tags": []
   },
   "outputs": [],
   "source": [
    "#Rollback to roll back the prev. query\n",
    "redshift_execute(conn, \"ROLLBACK;\")"
   ]
  },
  {
   "cell_type": "code",
   "execution_count": 24,
   "id": "b86c7733-6d0a-4873-8f26-0f35f1022397",
   "metadata": {
    "tags": []
   },
   "outputs": [],
   "source": [
    "#query to create table called entregable1 in schema asy_antonioyoo_coderhouse\n",
    "query = f\"\"\"CREATE TABLE asy_antonioyoo_coderhouse.entregable1 (open_rate decimal(10,6), high_rate decimal(10,6), low_rate decimal(10,6), close_rate decimal(10,6), volume integer, dividends decimal(10,6), stock_splits decimal(10,6), date timestamp)\"\"\"\n",
    "redshift_execute(conn,query)"
   ]
  }
 ],
 "metadata": {
  "kernelspec": {
   "display_name": "Python 3 (ipykernel)",
   "language": "python",
   "name": "python3"
  },
  "language_info": {
   "codemirror_mode": {
    "name": "ipython",
    "version": 3
   },
   "file_extension": ".py",
   "mimetype": "text/x-python",
   "name": "python",
   "nbconvert_exporter": "python",
   "pygments_lexer": "ipython3",
   "version": "3.10.10"
  }
 },
 "nbformat": 4,
 "nbformat_minor": 5
}
